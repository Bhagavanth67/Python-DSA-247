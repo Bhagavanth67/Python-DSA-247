{
  "nbformat": 4,
  "nbformat_minor": 0,
  "metadata": {
    "colab": {
      "provenance": [],
      "authorship_tag": "ABX9TyPIB8DEtnHW6gWnz5K9742N",
      "include_colab_link": true
    },
    "kernelspec": {
      "name": "python3",
      "display_name": "Python 3"
    },
    "language_info": {
      "name": "python"
    }
  },
  "cells": [
    {
      "cell_type": "markdown",
      "metadata": {
        "id": "view-in-github",
        "colab_type": "text"
      },
      "source": [
        "<a href=\"https://colab.research.google.com/github/Bhagavanth67/Python-DSA-247/blob/main/Array_Basics.ipynb\" target=\"_parent\"><img src=\"https://colab.research.google.com/assets/colab-badge.svg\" alt=\"Open In Colab\"/></a>"
      ]
    },
    {
      "cell_type": "code",
      "execution_count": null,
      "metadata": {
        "id": "eVIg5r7ZCCYd"
      },
      "outputs": [],
      "source": [
        "# Find the max in [3,7,2,9,4]\n",
        "lst = [3,7,2,9,4]\n",
        "Max = lst[0]\n",
        "for i in lst:\n",
        "    if i > Max:\n",
        "        Max = i\n",
        "print(\"Maximum of [3,7,2,9,4] is\",Max )"
      ]
    },
    {
      "cell_type": "code",
      "source": [
        "# Find the min in [3,7,2,9,4]\n",
        "lst = [3,7,2,9,4]\n",
        "Min = lst[0]\n",
        "for i in lst:\n",
        "    if i < Min:\n",
        "        Min = i\n",
        "print(\"Minimum of [3,7,2,9,4] is\",Min)"
      ],
      "metadata": {
        "id": "SDza-f0QHOCD"
      },
      "execution_count": null,
      "outputs": []
    },
    {
      "cell_type": "code",
      "source": [
        "# Find the sum of [3,7,2,9,4]\n",
        "lst = [3,7,2,9,4]\n",
        "Sum = 0\n",
        "for i in lst:\n",
        "    Sum += i\n",
        "print(\"Sum of [3,7,2,9,4] is\",Sum)"
      ],
      "metadata": {
        "id": "vGFzdb6MIJfy"
      },
      "execution_count": null,
      "outputs": []
    },
    {
      "cell_type": "code",
      "source": [
        "# max([10,5,8,20,3]) using max()\n",
        "lst = [10,5,8,20,3]\n",
        "print(\"Max :\",max(lst))"
      ],
      "metadata": {
        "id": "aKm6-HXyI0gs"
      },
      "execution_count": null,
      "outputs": []
    },
    {
      "cell_type": "code",
      "source": [
        "# min([10,5,8,20,3]) using min()\n",
        "lst = [10,5,8,20,3]\n",
        "print(\"Min :\",min(lst))"
      ],
      "metadata": {
        "id": "L9LUFt6PI0Us"
      },
      "execution_count": null,
      "outputs": []
    },
    {
      "cell_type": "code",
      "source": [
        "# sum([10,5,8,20,3]) using sum()\n",
        "lst = [10,5,8,20,3]\n",
        "print(\"Sum :\",sum(lst))"
      ],
      "metadata": {
        "id": "4Mz8a7bVI0E5"
      },
      "execution_count": null,
      "outputs": []
    },
    {
      "cell_type": "code",
      "source": [
        "# Find the second largest number in [3,7,2,9,4]\n",
        "lst = [3,7,2,9,4]\n",
        "max1 = lst[0]\n",
        "max2 = lst[0]\n",
        "for num in lst:\n",
        "    if num > max1:\n",
        "        max2 = max1\n",
        "        max1 = num\n",
        "    elif num > max2 and num != max1:\n",
        "        max2 = num\n",
        "print(\"Second largest number is : \", max2)"
      ],
      "metadata": {
        "id": "GSp04CGuNPzh"
      },
      "execution_count": null,
      "outputs": []
    },
    {
      "cell_type": "code",
      "source": [
        "# Find the second smallest number in [3,7,2,9,4]\n",
        "lst = [3,7,2,9,4]\n",
        "min1 = lst[0]\n",
        "min2 = lst[0]\n",
        "for num in lst:\n",
        "    if num < min1:\n",
        "        min2 = min1\n",
        "        min1 = num\n",
        "    elif num < min2 and num != min1:\n",
        "        min2 = num\n",
        "print(\"Second smallest number is : \", min2)"
      ],
      "metadata": {
        "id": "zFHm8Ta2NPok"
      },
      "execution_count": null,
      "outputs": []
    },
    {
      "cell_type": "code",
      "source": [
        "# Count how many elements are greater than 5 in [3,7,2,9,4]\n",
        "lst = [3,7,2,9,4]\n",
        "count = 0\n",
        "for i in lst:\n",
        "    if i > 5:\n",
        "        count += 1\n",
        "print(\"Count of elements are greater than 5 is : \",count)"
      ],
      "metadata": {
        "id": "yG2pQE8xNPd1"
      },
      "execution_count": null,
      "outputs": []
    },
    {
      "cell_type": "code",
      "source": [
        "# Count how many times 5 occurs in [10,5,8,20,3,5] using count()\n",
        "lst = [10,5,8,20,3,5]\n",
        "print(\"Count : \",lst.count(5))"
      ],
      "metadata": {
        "colab": {
          "base_uri": "https://localhost:8080/"
        },
        "id": "N7t-62WML5g1",
        "outputId": "d28b9828-e04d-425d-b130-70be7cca425d"
      },
      "execution_count": 2,
      "outputs": [
        {
          "output_type": "stream",
          "name": "stdout",
          "text": [
            "Count : 2\n"
          ]
        }
      ]
    },
    {
      "cell_type": "code",
      "source": [
        "# Find the index of min element in [10,5,8,20,3] using index() and min()\n",
        "lst = [10,5,8,20,3,5]\n",
        "print(\"Index of min : \",lst.index(min(lst)))"
      ],
      "metadata": {
        "colab": {
          "base_uri": "https://localhost:8080/"
        },
        "id": "gUOxxnFaMQRf",
        "outputId": "71c9e3ae-a9b7-431f-bb8c-28cdda70d870"
      },
      "execution_count": 7,
      "outputs": [
        {
          "output_type": "stream",
          "name": "stdout",
          "text": [
            "Index of min : 4\n"
          ]
        }
      ]
    },
    {
      "cell_type": "code",
      "source": [
        "# Find the index of max element in [10,5,8,20,3] using index() and max()\n",
        "lst = [10,5,8,20,3,5]\n",
        "print(\"Index of max : \",lst.index(max(lst)))"
      ],
      "metadata": {
        "colab": {
          "base_uri": "https://localhost:8080/"
        },
        "id": "2qKRF7SLMvnJ",
        "outputId": "7b647809-f082-4ab6-b708-d71d5c3984f7"
      },
      "execution_count": 6,
      "outputs": [
        {
          "output_type": "stream",
          "name": "stdout",
          "text": [
            "Index of max : 3\n"
          ]
        }
      ]
    }
  ]
}