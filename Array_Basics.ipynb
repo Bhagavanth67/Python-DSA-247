{
  "nbformat": 4,
  "nbformat_minor": 0,
  "metadata": {
    "colab": {
      "provenance": [],
      "authorship_tag": "ABX9TyPFIMPwxZMLBhEPhP/aJXND",
      "include_colab_link": true
    },
    "kernelspec": {
      "name": "python3",
      "display_name": "Python 3"
    },
    "language_info": {
      "name": "python"
    }
  },
  "cells": [
    {
      "cell_type": "markdown",
      "metadata": {
        "id": "view-in-github",
        "colab_type": "text"
      },
      "source": [
        "<a href=\"https://colab.research.google.com/github/Bhagavanth67/Python-DSA-247/blob/main/Array_Basics.ipynb\" target=\"_parent\"><img src=\"https://colab.research.google.com/assets/colab-badge.svg\" alt=\"Open In Colab\"/></a>"
      ]
    },
    {
      "cell_type": "code",
      "execution_count": null,
      "metadata": {
        "id": "eVIg5r7ZCCYd"
      },
      "outputs": [],
      "source": [
        "# Max in [3,7,2,9,4]\n",
        "lst = [3,7,2,9,4]\n",
        "Max = lst[0]\n",
        "for i in lst:\n",
        "    if i > Max:\n",
        "        Max = i\n",
        "print(\"Maximum of [3,7,2,9,4] is\",Max )"
      ]
    },
    {
      "cell_type": "code",
      "source": [
        "# Min in [3,7,2,9,4]\n",
        "lst = [3,7,2,9,4]\n",
        "Min = lst[0]\n",
        "for i in lst:\n",
        "    if i < Min:\n",
        "        Min = i\n",
        "print(\"Minimum of [3,7,2,9,4] is\",Min)"
      ],
      "metadata": {
        "id": "SDza-f0QHOCD"
      },
      "execution_count": null,
      "outputs": []
    },
    {
      "cell_type": "code",
      "source": [
        "# Sum of [3,7,2,9,4]\n",
        "lst = [3,7,2,9,4]\n",
        "Sum = 0\n",
        "for i in lst:\n",
        "    Sum += i\n",
        "print(\"Sum of [3,7,2,9,4] is\",Sum)"
      ],
      "metadata": {
        "id": "vGFzdb6MIJfy"
      },
      "execution_count": null,
      "outputs": []
    },
    {
      "cell_type": "code",
      "source": [
        "# max([10,5,8,20,3]) using built in function\n",
        "lst = [10,5,8,20,3]\n",
        "print(\"Max :\",max(lst))"
      ],
      "metadata": {
        "id": "aKm6-HXyI0gs"
      },
      "execution_count": null,
      "outputs": []
    },
    {
      "cell_type": "code",
      "source": [
        "# min([10,5,8,20,3]) using built in function\n",
        "lst = [10,5,8,20,3]\n",
        "print(\"Min :\",min(lst))"
      ],
      "metadata": {
        "id": "L9LUFt6PI0Us"
      },
      "execution_count": null,
      "outputs": []
    },
    {
      "cell_type": "code",
      "source": [
        "# sum([10,5,8,20,3]) using built in function\n",
        "lst = [10,5,8,20,3]\n",
        "print(\"Sum :\",sum(lst))"
      ],
      "metadata": {
        "id": "4Mz8a7bVI0E5"
      },
      "execution_count": null,
      "outputs": []
    }
  ]
}