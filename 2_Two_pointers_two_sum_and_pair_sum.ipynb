{
  "nbformat": 4,
  "nbformat_minor": 0,
  "metadata": {
    "colab": {
      "provenance": [],
      "authorship_tag": "ABX9TyNc+uRmVrnIztOW5Cm+MFTl",
      "include_colab_link": true
    },
    "kernelspec": {
      "name": "python3",
      "display_name": "Python 3"
    },
    "language_info": {
      "name": "python"
    }
  },
  "cells": [
    {
      "cell_type": "markdown",
      "metadata": {
        "id": "view-in-github",
        "colab_type": "text"
      },
      "source": [
        "<a href=\"https://colab.research.google.com/github/Bhagavanth67/Python-DSA/blob/main/2_Two_pointers_two_sum_and_pair_sum.ipynb\" target=\"_parent\"><img src=\"https://colab.research.google.com/assets/colab-badge.svg\" alt=\"Open In Colab\"/></a>"
      ]
    },
    {
      "cell_type": "code",
      "source": [
        "# Check if any two numbers in [2,7,11,15] add up to 9\n",
        "numbers = [2, 7, 11, 15]\n",
        "target = 9\n",
        "for i in range(4):\n",
        "    for j in range(i + 1, 4):\n",
        "        if numbers[i] + numbers[j] == target:\n",
        "            print(\"Pair found:\", numbers[i], numbers[j])"
      ],
      "metadata": {
        "id": "vEuiZtNHSqaY"
      },
      "execution_count": null,
      "outputs": []
    },
    {
      "cell_type": "code",
      "source": [
        "# Count all pairs in [1,2,3,4,5] that sum to 5\n",
        "numbers = [1, 2, 3, 4, 5]\n",
        "target = 5\n",
        "count = 0\n",
        "for i in range(0,len(numbers)):\n",
        "    for j in range(i + 1, len(numbers)):\n",
        "        if numbers[i] + numbers[j] == target:\n",
        "            count = count + 1\n",
        "print(f\"Count all pairs in {numbers} that sum to {target} is {count}\")"
      ],
      "metadata": {
        "id": "SJHIc2sMSz-y"
      },
      "execution_count": null,
      "outputs": []
    },
    {
      "cell_type": "code",
      "source": [
        "# Print all pairs in [3,1,4,2] that sum to 6\n",
        "numbers = [3,1,4,2]\n",
        "target = 6\n",
        "for i in range(0,len(numbers)):\n",
        "    for j in range(i + 1, len(numbers)):\n",
        "        if numbers[i] + numbers[j] == target:\n",
        "            print(f\"All pairs in {numbers} that sum to {target} is {numbers[i]},{numbers[j]}\")"
      ],
      "metadata": {
        "id": "ctrFRMx8UoWo"
      },
      "execution_count": null,
      "outputs": []
    },
    {
      "cell_type": "code",
      "source": [
        "# Use itertools.combinations to check if any pair in [2,7,11,15] sums to 9\n",
        "import itertools\n",
        "nums = [2, 7, 11, 15]\n",
        "target = 9\n",
        "for a, b in itertools.combinations(nums, 2):\n",
        "    if a + b == target:\n",
        "        print(f\"Pair found: ({a}, {b}) sums to {target}\")\n",
        "        break\n",
        "else:\n",
        "    print(\"No pair found that sums to\", target)"
      ],
      "metadata": {
        "id": "E65Ynl_rVje8"
      },
      "execution_count": null,
      "outputs": []
    },
    {
      "cell_type": "code",
      "source": [
        "# Use list comprehension to count pairs summing to 5 in [1,2,3,4,5]\n",
        "nums = [1, 2, 3, 4, 5]\n",
        "pairs = [(a, b) for i, a in enumerate(nums) for b in nums[i+1:] if a + b == 5]\n",
        "count = len(pairs)\n",
        "print(\"Pairs:\", pairs)\n",
        "print(\"Count:\", count)"
      ],
      "metadata": {
        "id": "llC9QGm3-2tv"
      },
      "execution_count": null,
      "outputs": []
    },
    {
      "cell_type": "code",
      "source": [
        "# Use list comprehension to list all pairs summing to 6 in [3,1,4,2]\n",
        "nums = [3 , 4 , 1 , 2]\n",
        "pairs = [(a, b) for i, a in enumerate(nums) for b in nums[i+1:] if a + b == 6]\n",
        "print(\"Pairs:\", pairs)"
      ],
      "metadata": {
        "id": "2ZbySV8_AI7s"
      },
      "execution_count": null,
      "outputs": []
    }
  ]
}